{
 "cells": [
  {
   "cell_type": "code",
   "execution_count": 61,
   "metadata": {
    "collapsed": false
   },
   "outputs": [],
   "source": [
    "import json"
   ]
  },
  {
   "cell_type": "code",
   "execution_count": 95,
   "metadata": {
    "collapsed": false
   },
   "outputs": [],
   "source": [
    "def comparator(ethalon, json_file):\n",
    "    try:\n",
    "        json_data = json.load(json_file)\n",
    "    except ValueError:\n",
    "        print Exception(\"json isn't valid\")\n",
    "        return\n",
    "    try:\n",
    "        ethalon_data = json.load(ethalon)\n",
    "    except ValueError:\n",
    "        print Exception(\"ethalon isn't valid\")\n",
    "        return\n",
    "    \n",
    "    if json_data != ethalon_data:\n",
    "        comparator2(ethalon_data,json_data)\n",
    "        "
   ]
  },
  {
   "cell_type": "code",
   "execution_count": 107,
   "metadata": {
    "collapsed": false
   },
   "outputs": [],
   "source": [
    "def comparator2(first,second, keyname = '', ethalon_id = 1):\n",
    "    if type(first) == type(second):\n",
    "        \n",
    "        if type(first) == type(dict()):\n",
    "            if len(first) < len(second):\n",
    "                t = first\n",
    "                first = second\n",
    "                second = t\n",
    "                ethalon_id = 2\n",
    "            for item1 in first.items():\n",
    "                if (item1[0] in second.keys()):\n",
    "                    item2 = (item1[0], second[item1[0]])\n",
    "                    comparator2(item1,item2,keyname, ethalon_id)\n",
    "                else:\n",
    "                    if ethalon_id == 1:\n",
    "                        #print \"can't find key \" + keyname + '-' + item1[0]\n",
    "                        print Exception(\"can't find key \" + keyname + '-' + item1[0])\n",
    "                        if (len(first) == len(second)):\n",
    "                            for item in second.items():\n",
    "                                if item[0] not in first.keys():\n",
    "                                    print Exception(\"extra key \" + keyname + '-' + item[0])\n",
    "                    else:\n",
    "                        print Exception(\"extra key \" + keyname + '-' + item1[0])\n",
    "        \n",
    "        if type(first) == type(list()):\n",
    "            if len(first) < len(second):\n",
    "                t = first\n",
    "                first = second\n",
    "                second = t\n",
    "                ethalon_id = 2\n",
    "            i = 0\n",
    "            for item1, item2 in zip(first,second): \n",
    "                comparator2(item1,item2, keyname + '(block number ' + str(i + 1) + ')', ethalon_id)\n",
    "                i += 1\n",
    "            index = len(second) \n",
    "            while index < len(first):\n",
    "                if ethalon_id == 1:\n",
    "                    print Exception(\"can't find block number \" + str(index + 1) + ' in list with key ' + keyname)\n",
    "                else:\n",
    "                    print Exception(\"extra block number \" + str(index + 1) + ' in list with key ' + keyname)\n",
    "                index += 1\n",
    "        \n",
    "        if type(first) == type(tuple()):\n",
    "            #print first[0]\n",
    "            if type(first[1]) == type(list()):\n",
    "                keyname += '-' + first[0]\n",
    "                comparator2(first[1], second[1], keyname, ethalon_id)\n",
    "            else:\n",
    "                if type(first[1]) == type(dict()):\n",
    "                    keyname += '-' + first[0]                    \n",
    "                    comparator2(first[1], second[1], keyname, ethalon_id)\n",
    "                else: \n",
    "                    if type(first[1]) != type(second[1]):\n",
    "                        print Exception(\"wrong type of value on key \" + keyname + '-' + first[0])\n",
    "                    else: \n",
    "                        if first[1] != second[1]:\n",
    "                            print Exception(\"wrong value on key \" + keyname + '-' + first[0])\n",
    "    \n",
    "    else:\n",
    "        print Exception(\"wrong type of value on key \" + keyname)"
   ]
  },
  {
   "cell_type": "code",
   "execution_count": 108,
   "metadata": {
    "collapsed": false
   },
   "outputs": [
    {
     "name": "stdout",
     "output_type": "stream",
     "text": [
      "wrong value on key -body-helper-status\n",
      "wrong type of value on key -body-phones(block number 1)-country\n",
      "wrong type of value on key -body-addressbook-sort\n",
      "wrong value on key -body-agent-visible-account\n",
      "extra block number 2 in list with key -body-signs\n",
      "can't find key -body-common_purpose_flags-acca_enabled\n",
      "extra key -body-autoreply-period-extra\n",
      "wrong value on key -body-autoreply-time-to\n",
      "can't find key -body-messages-templates_placeholders-body-text\n",
      "extra key -body-messages-templates_placeholders-body-text_q\n",
      "can't find block number 3 in list with key -body-notifications-sms-folders\n",
      "wrong value on key -body-notifications-sms-conditions-time-to\n",
      "wrong type of value on key -body-birthday-day\n",
      "can't find key -body-login\n",
      "extra key -body-loginon\n"
     ]
    }
   ],
   "source": [
    "json_file = open(\"json_data2.json\")\n",
    "ethalon = open(\"json_data.json\")\n",
    "\n",
    "comparator(ethalon, json_file)\n",
    "    "
   ]
  },
  {
   "cell_type": "code",
   "execution_count": null,
   "metadata": {
    "collapsed": true
   },
   "outputs": [],
   "source": []
  }
 ],
 "metadata": {
  "kernelspec": {
   "display_name": "Python 2",
   "language": "python",
   "name": "python2"
  },
  "language_info": {
   "codemirror_mode": {
    "name": "ipython",
    "version": 2
   },
   "file_extension": ".py",
   "mimetype": "text/x-python",
   "name": "python",
   "nbconvert_exporter": "python",
   "pygments_lexer": "ipython2",
   "version": "2.7.11"
  }
 },
 "nbformat": 4,
 "nbformat_minor": 0
}
