{
 "cells": [
  {
   "cell_type": "code",
   "execution_count": 177,
   "metadata": {
    "collapsed": false
   },
   "outputs": [],
   "source": [
    "import json\n",
    "error_list = list()"
   ]
  },
  {
   "cell_type": "code",
   "execution_count": 178,
   "metadata": {
    "collapsed": false
   },
   "outputs": [],
   "source": [
    "def comparator(ethalon, json_file):\n",
    "    try:\n",
    "        json_data = json.load(json_file)\n",
    "    except ValueError:\n",
    "        raise Exception(\"json isn't valid\")\n",
    "    try:\n",
    "        ethalon_data = json.load(ethalon)\n",
    "    except ValueError:\n",
    "        raise Exception(\"ethalon isn't valid\")\n",
    "    \n",
    "    if json_data != ethalon_data:\n",
    "        comparator2(ethalon_data,json_data)\n",
    "    \n",
    "    if len(error_list):\n",
    "        raise Exception(\"\\n\"+\"\\n\".join([str(e) for e in error_list]))"
   ]
  },
  {
   "cell_type": "code",
   "execution_count": 179,
   "metadata": {
    "collapsed": false
   },
   "outputs": [],
   "source": [
    "def comparator2(first,second, keyname = '', ethalon_id = 1):\n",
    "    if type(first) == type(second):\n",
    "        \n",
    "        if type(first) == type(dict()):\n",
    "            if len(first) < len(second):\n",
    "                t = first\n",
    "                first = second\n",
    "                second = t\n",
    "                ethalon_id = 2\n",
    "            for item1 in first.items():\n",
    "                if (item1[0] in second.keys()):\n",
    "                    item2 = (item1[0], second[item1[0]])\n",
    "                    comparator2(item1,item2,keyname, ethalon_id)\n",
    "                else:\n",
    "                    if ethalon_id == 1:\n",
    "                        error_list.append(Exception(\"can't find key \" + keyname + '-' + item1[0]))\n",
    "                        if (len(first) == len(second)):\n",
    "                            for item in second.items():\n",
    "                                if item[0] not in first.keys():\n",
    "                                    error_list.append(Exception(\"extra key \" + keyname + '-' + item[0]))\n",
    "                    else:\n",
    "                        error_list.append(Exception(\"extra key \" + keyname + '-' + item1[0]))\n",
    "        \n",
    "        if type(first) == type(list()):\n",
    "            if len(first) < len(second):\n",
    "                t = first\n",
    "                first = second\n",
    "                second = t\n",
    "                ethalon_id = 2\n",
    "            i = 0\n",
    "            for item1, item2 in zip(first,second): \n",
    "                comparator2(item1,item2, keyname + '(block number ' + str(i + 1) + ')', ethalon_id)\n",
    "                i += 1\n",
    "            index = len(second) \n",
    "            while index < len(first):\n",
    "                if ethalon_id == 1:\n",
    "                    error_list.append(Exception(\"can't find block number \" + str(index + 1) + ' in list with key ' + keyname))\n",
    "                else:\n",
    "                    error_list.append(Exception(\"extra block number \" + str(index + 1) + ' in list with key ' + keyname))\n",
    "                index += 1\n",
    "        \n",
    "        if type(first) == type(tuple()):\n",
    "            if type(first[1]) == type(list()):\n",
    "                keyname += '-' + first[0]\n",
    "                comparator2(first[1], second[1], keyname, ethalon_id)\n",
    "            else:\n",
    "                if type(first[1]) == type(dict()):\n",
    "                    keyname += '-' + first[0]                    \n",
    "                    comparator2(first[1], second[1], keyname, ethalon_id)\n",
    "                else: \n",
    "                    if type(first[1]) != type(second[1]):\n",
    "                        error_list.append(Exception(\"wrong type of value on key \" + keyname + '-' + first[0]))\n",
    "                    else: \n",
    "                        if first[1] != second[1]:\n",
    "                            error_list.append(Exception(\"wrong value on key \" + keyname + '-' + first[0]))\n",
    "    \n",
    "    else:\n",
    "        error_list.append(Exception(\"wrong type of value on key \" + keyname))"
   ]
  },
  {
   "cell_type": "code",
   "execution_count": 180,
   "metadata": {
    "collapsed": false
   },
   "outputs": [
    {
     "ename": "Exception",
     "evalue": "\nwrong value on key -status\ncan't find key -body-login\nextra key -body-logiin\ncan't find key -body-avatars-mainphoto\nwrong value on key -body-avatars-90x90",
     "output_type": "error",
     "traceback": [
      "\u001b[1;31m---------------------------------------------------------------------------\u001b[0m",
      "\u001b[1;31mException\u001b[0m                                 Traceback (most recent call last)",
      "\u001b[1;32m<ipython-input-180-1051e2f2864a>\u001b[0m in \u001b[0;36m<module>\u001b[1;34m()\u001b[0m\n\u001b[0;32m      2\u001b[0m \u001b[0methalon\u001b[0m \u001b[1;33m=\u001b[0m \u001b[0mopen\u001b[0m\u001b[1;33m(\u001b[0m\u001b[1;34m\"json_small.json\"\u001b[0m\u001b[1;33m)\u001b[0m\u001b[1;33m\u001b[0m\u001b[0m\n\u001b[0;32m      3\u001b[0m \u001b[1;33m\u001b[0m\u001b[0m\n\u001b[1;32m----> 4\u001b[1;33m \u001b[0mcomparator\u001b[0m\u001b[1;33m(\u001b[0m\u001b[0methalon\u001b[0m\u001b[1;33m,\u001b[0m \u001b[0mjson_file\u001b[0m\u001b[1;33m)\u001b[0m\u001b[1;33m\u001b[0m\u001b[0m\n\u001b[0m\u001b[0;32m      5\u001b[0m \u001b[1;33m\u001b[0m\u001b[0m\n",
      "\u001b[1;32m<ipython-input-178-e54b0fdd6fa9>\u001b[0m in \u001b[0;36mcomparator\u001b[1;34m(ethalon, json_file)\u001b[0m\n\u001b[0;32m     13\u001b[0m \u001b[1;33m\u001b[0m\u001b[0m\n\u001b[0;32m     14\u001b[0m     \u001b[1;32mif\u001b[0m \u001b[0mlen\u001b[0m\u001b[1;33m(\u001b[0m\u001b[0merror_list\u001b[0m\u001b[1;33m)\u001b[0m\u001b[1;33m:\u001b[0m\u001b[1;33m\u001b[0m\u001b[0m\n\u001b[1;32m---> 15\u001b[1;33m         \u001b[1;32mraise\u001b[0m \u001b[0mException\u001b[0m\u001b[1;33m(\u001b[0m\u001b[1;34m\"\\n\"\u001b[0m\u001b[1;33m+\u001b[0m\u001b[1;34m\"\\n\"\u001b[0m\u001b[1;33m.\u001b[0m\u001b[0mjoin\u001b[0m\u001b[1;33m(\u001b[0m\u001b[1;33m[\u001b[0m\u001b[0mstr\u001b[0m\u001b[1;33m(\u001b[0m\u001b[0me\u001b[0m\u001b[1;33m)\u001b[0m \u001b[1;32mfor\u001b[0m \u001b[0me\u001b[0m \u001b[1;32min\u001b[0m \u001b[0merror_list\u001b[0m\u001b[1;33m]\u001b[0m\u001b[1;33m)\u001b[0m\u001b[1;33m)\u001b[0m\u001b[1;33m\u001b[0m\u001b[0m\n\u001b[0m",
      "\u001b[1;31mException\u001b[0m: \nwrong value on key -status\ncan't find key -body-login\nextra key -body-logiin\ncan't find key -body-avatars-mainphoto\nwrong value on key -body-avatars-90x90"
     ]
    }
   ],
   "source": [
    "json_file = open(\"json_small9.json\")\n",
    "ethalon = open(\"json_small.json\")\n",
    "\n",
    "comparator(ethalon, json_file)\n",
    "    "
   ]
  },
  {
   "cell_type": "code",
   "execution_count": null,
   "metadata": {
    "collapsed": true
   },
   "outputs": [],
   "source": []
  }
 ],
 "metadata": {
  "kernelspec": {
   "display_name": "Python 2",
   "language": "python",
   "name": "python2"
  },
  "language_info": {
   "codemirror_mode": {
    "name": "ipython",
    "version": 2
   },
   "file_extension": ".py",
   "mimetype": "text/x-python",
   "name": "python",
   "nbconvert_exporter": "python",
   "pygments_lexer": "ipython2",
   "version": "2.7.11"
  }
 },
 "nbformat": 4,
 "nbformat_minor": 0
}
