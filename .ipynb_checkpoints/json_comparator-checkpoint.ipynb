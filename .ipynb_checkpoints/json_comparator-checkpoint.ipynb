{
 "cells": [
  {
   "cell_type": "code",
   "execution_count": 11,
   "metadata": {
    "collapsed": false
   },
   "outputs": [],
   "source": [
    "import json\n",
    "error_list = list()"
   ]
  },
  {
   "cell_type": "code",
   "execution_count": 8,
   "metadata": {
    "collapsed": false
   },
   "outputs": [],
   "source": [
    "def comparator(ethalon_path, json_file_path):\n",
    "    ethalon = open(ethalon_path)\n",
    "    json_file = open(json_file_path)\n",
    "\n",
    "    try:\n",
    "        json_data = json.load(json_file)\n",
    "    except ValueError:\n",
    "        raise Exception(\"json isn't valid\")\n",
    "    try:\n",
    "        ethalon_data = json.load(ethalon)\n",
    "    except ValueError:\n",
    "        raise Exception(\"ethalon isn't valid\")\n",
    "    \n",
    "    if json_data != ethalon_data:\n",
    "        comparator2(ethalon_data,json_data, 1)\n",
    "    \n",
    "    #raise list with all exceptions\n",
    "    if len(error_list):\n",
    "        raise Exception(\"\\n\"+\"\\n\".join([str(e) for e in error_list]))"
   ]
  },
  {
   "cell_type": "code",
   "execution_count": 3,
   "metadata": {
    "collapsed": true
   },
   "outputs": [],
   "source": [
    "def compare_dicts(first, second, ethalon_id, keyname):\n",
    "    if len(first) < len(second):\n",
    "        first, second = second, first\n",
    "        #to control where is ethalon\n",
    "        ethalon_id = 2 if (ethalon_id == 1) else 1\n",
    "    \n",
    "    #check if second have first items\n",
    "    for item1 in first.items():\n",
    "        if (item1[0] in second.keys()):\n",
    "            item2 = (item1[0], second[item1[0]])\n",
    "            comparator2(item1,item2,ethalon_id, keyname)\n",
    "        else:\n",
    "            if ethalon_id == 1:\n",
    "                #if ethalon is first, item1 isn't in json   \n",
    "                error_list.append(Exception(\"can't find key \" + keyname + '-' + item1[0]))\n",
    "                #json can include another item\n",
    "                if (len(first) == len(second)):\n",
    "                    for item in second.items():\n",
    "                        if item[0] not in first.keys():\n",
    "                            error_list.append(Exception(\"extra key \" + keyname + '-' + item[0]))\n",
    "            else:\n",
    "                #if ethalon is second, item1 is extra\n",
    "                error_list.append(Exception(\"extra key \" + keyname + '-' + item1[0]))"
   ]
  },
  {
   "cell_type": "code",
   "execution_count": 4,
   "metadata": {
    "collapsed": true
   },
   "outputs": [],
   "source": [
    "def compare_lists(first, second, ethalon_id, keyname):\n",
    "    if len(first) < len(second):\n",
    "        first, second = second, first\n",
    "        #to control where is ethalon\n",
    "        ethalon_id = 2 if (ethalon_id == 1) else 1\n",
    "        \n",
    "    #counter for blocks in list    \n",
    "    i = 0\n",
    "    #compare lists items\n",
    "    for item1, item2 in zip(first,second): \n",
    "        comparator2(item1,item2, ethalon_id, keyname + '(block number ' + str(i + 1) + ')')\n",
    "        i += 1\n",
    "    #counter for blocks in list\n",
    "    index = len(second) \n",
    "    #check if there is extra blocks \n",
    "    while index < len(first):\n",
    "        if ethalon_id == 1:\n",
    "            #if ethalon is first, json haven't this block\n",
    "            error_list.append(Exception(\"can't find block number \" + str(index + 1) + ' in list with key ' + keyname))\n",
    "        else:\n",
    "            #if ethalon is second, this block is extra\n",
    "            error_list.append(Exception(\"extra block number \" + str(index + 1) + ' in list with key ' + keyname))\n",
    "        index += 1"
   ]
  },
  {
   "cell_type": "code",
   "execution_count": 5,
   "metadata": {
    "collapsed": true
   },
   "outputs": [],
   "source": [
    "def compare_tuples(first, second, ethalon_id, keyname):\n",
    "    if type(first[1]) == type(list()):\n",
    "        keyname += '-' + first[0]\n",
    "        comparator2(first[1], second[1], ethalon_id, keyname)\n",
    "    else:\n",
    "        if type(first[1]) == type(dict()):\n",
    "            keyname += '-' + first[0]                    \n",
    "            comparator2(first[1], second[1], ethalon_id, keyname)\n",
    "        else: \n",
    "            if type(first[1]) != type(second[1]):\n",
    "                error_list.append(Exception(\"wrong type of value on key \" + keyname + '-' + first[0]))\n",
    "            else: \n",
    "                if first[1] != second[1]:\n",
    "                    error_list.append(Exception(\"wrong value on key \" + keyname + '-' + first[0]))"
   ]
  },
  {
   "cell_type": "code",
   "execution_count": 6,
   "metadata": {
    "collapsed": false
   },
   "outputs": [],
   "source": [
    "def comparator2(first,second, ethalon_id, keyname = \"\"):\n",
    "    #keyname is path to error\n",
    "    if type(first) == type(second):\n",
    "        \n",
    "        if type(first) == type(dict()):\n",
    "            compare_dicts(first, second, ethalon_id, keyname)\n",
    "        \n",
    "        if type(first) == type(list()):\n",
    "            compare_lists(first,second,ethalon_id,keyname)\n",
    "        \n",
    "        if type(first) == type(tuple()):\n",
    "            compare_tuples(first,second,ethalon_id,keyname)\n",
    "    \n",
    "    else:\n",
    "        error_list.append(Exception(\"wrong type of value on key \" + keyname))"
   ]
  },
  {
   "cell_type": "code",
   "execution_count": 12,
   "metadata": {
    "collapsed": false
   },
   "outputs": [
    {
     "ename": "Exception",
     "evalue": "\nextra key -phones",
     "output_type": "error",
     "traceback": [
      "\u001b[1;31m---------------------------------------------------------------------------\u001b[0m",
      "\u001b[1;31mException\u001b[0m                                 Traceback (most recent call last)",
      "\u001b[1;32m<ipython-input-12-e246c369fc39>\u001b[0m in \u001b[0;36m<module>\u001b[1;34m()\u001b[0m\n\u001b[1;32m----> 1\u001b[1;33m \u001b[0mcomparator\u001b[0m\u001b[1;33m(\u001b[0m\u001b[1;34m\"json_for_tests/json_small.json\"\u001b[0m\u001b[1;33m,\u001b[0m \u001b[1;34m\"json_for_tests/json_small_with_extra_key__with_extra_block_in_list.json\"\u001b[0m\u001b[1;33m)\u001b[0m\u001b[1;33m\u001b[0m\u001b[0m\n\u001b[0m\u001b[0;32m      2\u001b[0m \u001b[1;33m\u001b[0m\u001b[0m\n",
      "\u001b[1;32m<ipython-input-8-b11b0d42333c>\u001b[0m in \u001b[0;36mcomparator\u001b[1;34m(ethalon_path, json_file_path)\u001b[0m\n\u001b[0;32m     17\u001b[0m     \u001b[1;31m#raise list with all exceptions\u001b[0m\u001b[1;33m\u001b[0m\u001b[1;33m\u001b[0m\u001b[0m\n\u001b[0;32m     18\u001b[0m     \u001b[1;32mif\u001b[0m \u001b[0mlen\u001b[0m\u001b[1;33m(\u001b[0m\u001b[0merror_list\u001b[0m\u001b[1;33m)\u001b[0m\u001b[1;33m:\u001b[0m\u001b[1;33m\u001b[0m\u001b[0m\n\u001b[1;32m---> 19\u001b[1;33m         \u001b[1;32mraise\u001b[0m \u001b[0mException\u001b[0m\u001b[1;33m(\u001b[0m\u001b[1;34m\"\\n\"\u001b[0m\u001b[1;33m+\u001b[0m\u001b[1;34m\"\\n\"\u001b[0m\u001b[1;33m.\u001b[0m\u001b[0mjoin\u001b[0m\u001b[1;33m(\u001b[0m\u001b[1;33m[\u001b[0m\u001b[0mstr\u001b[0m\u001b[1;33m(\u001b[0m\u001b[0me\u001b[0m\u001b[1;33m)\u001b[0m \u001b[1;32mfor\u001b[0m \u001b[0me\u001b[0m \u001b[1;32min\u001b[0m \u001b[0merror_list\u001b[0m\u001b[1;33m]\u001b[0m\u001b[1;33m)\u001b[0m\u001b[1;33m)\u001b[0m\u001b[1;33m\u001b[0m\u001b[0m\n\u001b[0m",
      "\u001b[1;31mException\u001b[0m: \nextra key -phones"
     ]
    }
   ],
   "source": [
    "comparator(\"json_for_tests/json_small.json\", \"json_for_tests/json_small_with_extra_key__with_extra_block_in_list.json\")\n",
    "    "
   ]
  },
  {
   "cell_type": "code",
   "execution_count": null,
   "metadata": {
    "collapsed": true
   },
   "outputs": [],
   "source": []
  }
 ],
 "metadata": {
  "kernelspec": {
   "display_name": "Python 2",
   "language": "python",
   "name": "python2"
  },
  "language_info": {
   "codemirror_mode": {
    "name": "ipython",
    "version": 2
   },
   "file_extension": ".py",
   "mimetype": "text/x-python",
   "name": "python",
   "nbconvert_exporter": "python",
   "pygments_lexer": "ipython2",
   "version": "2.7.11"
  }
 },
 "nbformat": 4,
 "nbformat_minor": 0
}
