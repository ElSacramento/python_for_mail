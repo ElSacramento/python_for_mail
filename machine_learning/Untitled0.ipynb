{
 "cells": [
  {
   "cell_type": "code",
   "execution_count": 5,
   "metadata": {
    "collapsed": false
   },
   "outputs": [
    {
     "name": "stdout",
     "output_type": "stream",
     "text": [
      "male      577\n",
      "female    314\n",
      "dtype: int64\n"
     ]
    }
   ],
   "source": [
    "import numpy\n",
    "import scipy\n",
    "import pylab\n",
    "import matplotlib\n",
    "import pandas\n",
    "import collections\n",
    "\n",
    "data=pandas.read_csv(\"/home/ekaterina/Загрузки/train.csv\")\n",
    "\n",
    "#print data\n",
    "print data['Sex'].value_counts()\n"
   ]
  },
  {
   "cell_type": "code",
   "execution_count": 23,
   "metadata": {
    "collapsed": false
   },
   "outputs": [
    {
     "name": "stdout",
     "output_type": "stream",
     "text": [
      "3    491\n",
      "1    216\n",
      "2    184\n",
      "dtype: int64\n"
     ]
    }
   ],
   "source": [
    "print data['Pclass'].value_counts()\n"
   ]
  },
  {
   "cell_type": "code",
   "execution_count": 6,
   "metadata": {
    "collapsed": false
   },
   "outputs": [
    {
     "name": "stdout",
     "output_type": "stream",
     "text": [
      "1st class\n",
      "41.2813861386\n",
      "2st class\n",
      "30.7407070707\n",
      "3st class\n",
      "26.5075889328\n"
     ]
    }
   ],
   "source": [
    "import pandas\n",
    "data=pandas.read_csv(\"/home/ekaterina/Загрузки/train.csv\") \n",
    "\n",
    "print '1st class'\n",
    "print data[(data[\"Sex\"] == \"male\") & (data[\"Pclass\"] == 1)][\"Age\"].describe()[\"mean\"]\n",
    "print '2st class'\n",
    "print data[(data[\"Sex\"] == \"male\") & (data[\"Pclass\"] == 2)][\"Age\"].describe()[\"mean\"]\n",
    "print '3st class'\n",
    "print data[(data[\"Sex\"] == \"male\") & (data[\"Pclass\"] == 3)][\"Age\"].describe()['mean']\n"
   ]
  },
  {
   "cell_type": "code",
   "execution_count": 7,
   "metadata": {
    "collapsed": false
   },
   "outputs": [
    {
     "name": "stdout",
     "output_type": "stream",
     "text": [
      "1st class\n",
      "34.6117647059\n",
      "2st class\n",
      "28.722972973\n",
      "3st class\n",
      "21.75\n"
     ]
    }
   ],
   "source": [
    "import pandas\n",
    "data=pandas.read_csv(\"/home/ekaterina/Загрузки/train.csv\") \n",
    "\n",
    "print '1st class'\n",
    "print data[(data[\"Sex\"] == \"female\") & (data[\"Pclass\"] == 1)][\"Age\"].describe()['mean']\n",
    "print '2st class'\n",
    "print data[(data[\"Sex\"] == \"female\") & (data[\"Pclass\"] == 2)][\"Age\"].describe()['mean']\n",
    "print '3st class'\n",
    "print data[(data[\"Sex\"] == \"female\") & (data[\"Pclass\"] == 3)][\"Age\"].describe()['mean']\n"
   ]
  },
  {
   "cell_type": "code",
   "execution_count": 26,
   "metadata": {
    "collapsed": false
   },
   "outputs": [
    {
     "name": "stdout",
     "output_type": "stream",
     "text": [
      "0    549\n",
      "1    342\n",
      "dtype: int64\n"
     ]
    }
   ],
   "source": [
    "print data[\"Survived\"].value_counts()\n"
   ]
  },
  {
   "cell_type": "code",
   "execution_count": 13,
   "metadata": {
    "collapsed": false
   },
   "outputs": [
    {
     "name": "stdout",
     "output_type": "stream",
     "text": [
      "Populating the interactive namespace from numpy and matplotlib\n",
      "Средняя цена\n",
      "32.2042079686\n"
     ]
    },
    {
     "data": {
      "text/plain": [
       "<matplotlib.axes.AxesSubplot at 0x7f139feb13d0>"
      ]
     },
     "execution_count": 13,
     "metadata": {},
     "output_type": "execute_result"
    },
    {
     "data": {
      "image/png": "[encoded data removed]",
      "text/plain": [
       "<matplotlib.figure.Figure at 0x7f13a012c950>"
      ]
     },
     "metadata": {},
     "output_type": "display_data"
    }
   ],
   "source": [
    "%pylab inline\n",
    "\n",
    "print 'Средняя цена'\n",
    "print data['Fare'].describe()['mean']\n",
    "data['Fare'].hist()\n"
   ]
  },
  {
   "cell_type": "code",
   "execution_count": 28,
   "metadata": {
    "collapsed": false
   },
   "outputs": [
    {
     "name": "stdout",
     "output_type": "stream",
     "text": [
      "female    233\n",
      "male      109\n",
      "dtype: int64\n"
     ]
    }
   ],
   "source": [
    "print 'answer 7'\n",
    "print data[data[\"Survived\"]==1][\"Sex\"].value_counts()\n"
   ]
  },
  {
   "cell_type": "code",
   "execution_count": 3,
   "metadata": {
    "collapsed": false
   },
   "outputs": [
    {
     "name": "stdout",
     "output_type": "stream",
     "text": [
      "Panula\n"
     ]
    }
   ],
   "source": [
    "print(collections.Counter(name.split(',', 1)[0] for name, sex in zip(data['Name'], data['Sex']) if sex == 'male').most_common(1)[0][0])"
   ]
  },
  {
   "cell_type": "code",
   "execution_count": 15,
   "metadata": {
    "collapsed": false
   },
   "outputs": [
    {
     "name": "stdout",
     "output_type": "stream",
     "text": [
      "Populating the interactive namespace from numpy and matplotlib\n",
      "answer 6\n"
     ]
    },
    {
     "data": {
      "text/plain": [
       "<matplotlib.axes.AxesSubplot at 0x7f139fd804d0>"
      ]
     },
     "execution_count": 15,
     "metadata": {},
     "output_type": "execute_result"
    },
    {
     "data": {
      "image/png": "[encoded data removed]",
      "text/plain": [
       "<matplotlib.figure.Figure at 0x7f13c64cd110>"
      ]
     },
     "metadata": {},
     "output_type": "display_data"
    }
   ],
   "source": [
    "%pylab inline\n",
    "print 'answer 6'\n",
    "\n",
    "data[data[\"Survived\"]==1][\"Age\"].hist()"
   ]
  },
  {
   "cell_type": "code",
   "execution_count": 14,
   "metadata": {
    "collapsed": false
   },
   "outputs": [
    {
     "name": "stdout",
     "output_type": "stream",
     "text": [
      "Populating the interactive namespace from numpy and matplotlib\n",
      "answer 9\n"
     ]
    },
    {
     "data": {
      "text/plain": [
       "<matplotlib.axes.AxesSubplot at 0x7f139fd44fd0>"
      ]
     },
     "execution_count": 14,
     "metadata": {},
     "output_type": "execute_result"
    },
    {
     "data": {
      "image/png": "[encoded data removed]",
      "text/plain": [
       "<matplotlib.figure.Figure at 0x7f139fef16d0>"
      ]
     },
     "metadata": {},
     "output_type": "display_data"
    }
   ],
   "source": [
    "%pylab inline\n",
    "\n",
    "print 'answer 9'\n",
    "data[data['Survived']==1]['Fare'].hist()"
   ]
  },
  {
   "cell_type": "code",
   "execution_count": null,
   "metadata": {
    "collapsed": false
   },
   "outputs": [],
   "source": []
  }
 ],
 "metadata": {
  "kernelspec": {
   "display_name": "Python 2",
   "language": "python",
   "name": "python2"
  },
  "language_info": {
   "codemirror_mode": {
    "name": "ipython",
    "version": 2
   },
   "file_extension": ".py",
   "mimetype": "text/x-python",
   "name": "python",
   "nbconvert_exporter": "python",
   "pygments_lexer": "ipython2",
   "version": "2.7.11"
  }
 },
 "nbformat": 4,
 "nbformat_minor": 0
}
