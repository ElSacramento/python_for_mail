{
 "cells": [
  {
   "cell_type": "code",
   "execution_count": 30,
   "metadata": {
    "collapsed": false
   },
   "outputs": [],
   "source": [
    "import numpy\n",
    "import scipy\n",
    "import scipy.stats\n",
    "import pandas as pd\n",
    "import pylab\n",
    "import sklearn\n",
    "import sklearn.metrics as metrics"
   ]
  },
  {
   "cell_type": "code",
   "execution_count": 31,
   "metadata": {
    "collapsed": false
   },
   "outputs": [
    {
     "name": "stdout",
     "output_type": "stream",
     "text": [
      "answer 1\n"
     ]
    }
   ],
   "source": [
    "print 'answer 1'\n",
    "data = pd.read_csv(\"C:/Users/Sony/Desktop/mlearn/train (1).csv\")"
   ]
  },
  {
   "cell_type": "code",
   "execution_count": 32,
   "metadata": {
    "collapsed": false
   },
   "outputs": [
    {
     "name": "stdout",
     "output_type": "stream",
     "text": [
      "                AAGE         ADTIND         ADTOCC        AHRSPAY  \\\n",
      "count  209526.000000  209526.000000  209526.000000  209526.000000   \n",
      "mean       34.521353      15.385838      11.302831      54.931221   \n",
      "std        22.312103      18.061269      14.440936     271.796102   \n",
      "min         0.000000       0.000000       0.000000       0.000000   \n",
      "25%        15.000000       0.000000       0.000000       0.000000   \n",
      "50%        33.000000       0.000000       0.000000       0.000000   \n",
      "75%        50.000000      33.000000      26.000000       0.000000   \n",
      "max        90.000000      51.000000      46.000000    9999.000000   \n",
      "\n",
      "             CAPGAIN        CAPLOSS         DIVVAL       MARSUPWT  \\\n",
      "count  209526.000000  209526.000000  209526.000000  209526.000000   \n",
      "mean      424.853947      37.008767     195.177081    1739.343598   \n",
      "std      4583.978327     271.053820    1890.857539     990.808640   \n",
      "min         0.000000       0.000000       0.000000      37.870000   \n",
      "25%         0.000000       0.000000       0.000000    1062.132500   \n",
      "50%         0.000000       0.000000       0.000000    1618.385000   \n",
      "75%         0.000000       0.000000       0.000000    2187.247500   \n",
      "max     99999.000000    4608.000000   99999.000000   18656.300000   \n",
      "\n",
      "               NOEMP          SEOTR         VETQVA          VETYN  \\\n",
      "count  209526.000000  209526.000000  209526.000000  209526.000000   \n",
      "mean        1.958020       0.177792       1.516294      23.213286   \n",
      "std         2.365275       0.557291       0.850505      24.409117   \n",
      "min         0.000000       0.000000       0.000000       0.000000   \n",
      "25%         0.000000       0.000000       2.000000       0.000000   \n",
      "50%         1.000000       0.000000       2.000000       8.000000   \n",
      "75%         4.000000       0.000000       2.000000      52.000000   \n",
      "max         6.000000       2.000000       2.000000      52.000000   \n",
      "\n",
      "             WKSWORK  \n",
      "count  209526.000000  \n",
      "mean       94.500057  \n",
      "std         0.500001  \n",
      "min        94.000000  \n",
      "25%        94.000000  \n",
      "50%        95.000000  \n",
      "75%        95.000000  \n",
      "max        95.000000  \n",
      "AAGE        209526\n",
      "ACLSWKR     209526\n",
      "ADTIND      209526\n",
      "ADTOCC      209526\n",
      "AHGA        209526\n",
      "AHRSPAY     209526\n",
      "AHSCOL      209526\n",
      "AMARITL     209526\n",
      "AMJIND      209526\n",
      "AMJOCC      209526\n",
      "ARACE       209526\n",
      "AREORGN     208625\n",
      "ASEX        209526\n",
      "AUNMEM      209526\n",
      "AUNTYPE     209526\n",
      "AWKSTAT     209526\n",
      "CAPGAIN     209526\n",
      "CAPLOSS     209526\n",
      "DIVVAL      209526\n",
      "FILESTAT    209526\n",
      "GRINREG     209526\n",
      "GRINST      209526\n",
      "HHDFMX      209526\n",
      "HHDREL      209526\n",
      "MARSUPWT    209526\n",
      "MIGMTR1     209526\n",
      "MIGMTR3     209526\n",
      "MIGMTR4     209526\n",
      "MIGSAME     209526\n",
      "MIGSUN      209526\n",
      "NOEMP       209526\n",
      "PARENT      209526\n",
      "PEFNTVTY    209526\n",
      "PEMNTVTY    209526\n",
      "PENATVTY    209526\n",
      "PRCITSHP    209526\n",
      "SEOTR       209526\n",
      "TAXINC      209526\n",
      "VETQVA      209526\n",
      "VETYN       209526\n",
      "WKSWORK     209526\n",
      "CLASS       209526\n",
      "dtype: int64\n"
     ]
    }
   ],
   "source": [
    "\n",
    "print data.describe()\n",
    "print data.count()"
   ]
  },
  {
   "cell_type": "code",
   "execution_count": 33,
   "metadata": {
    "collapsed": false
   },
   "outputs": [
    {
     "name": "stdout",
     "output_type": "stream",
     "text": [
      "answer 3\n",
      "Populating the interactive namespace from numpy and matplotlib\n"
     ]
    },
    {
     "name": "stderr",
     "output_type": "stream",
     "text": [
      "WARNING: pylab import has clobbered these variables: ['pylab']\n",
      "`%matplotlib` prevents importing * from pylab and numpy\n"
     ]
    },
    {
     "data": {
      "text/plain": [
       "<matplotlib.axes._subplots.AxesSubplot at 0x15d55da0>"
      ]
     },
     "execution_count": 33,
     "metadata": {},
     "output_type": "execute_result"
    },
    {
     "data": {
      "image/png": "[encoded data removed]",
      "text/plain": [
       "<matplotlib.figure.Figure at 0x1f1cdcf8>"
      ]
     },
     "metadata": {},
     "output_type": "display_data"
    }
   ],
   "source": [
    "print 'answer 3'\n",
    "import pylab\n",
    "%pylab inline\n",
    "\n",
    "data[\"AHRSPAY\"].hist(bins=30)\n"
   ]
  },
  {
   "cell_type": "code",
   "execution_count": 34,
   "metadata": {
    "collapsed": false
   },
   "outputs": [
    {
     "name": "stdout",
     "output_type": "stream",
     "text": [
      "answer 2\n"
     ]
    }
   ],
   "source": [
    "print 'answer 2'\n",
    "import pandas as pd\n",
    "import numpy\n",
    "\n",
    "data = pd.read_csv(\"C:/Users/Sony/Desktop/mlearn/train (1).csv\")\n",
    "categorical_columns = set(data.columns[data.dtypes == 'object']) - {'CLASS'}\n",
    "\n",
    "from copy import deepcopy\n",
    "\n",
    "def numerate_categorical_columns(df, categorical_columns):\n",
    "    result_df = deepcopy(df)\n",
    "    for column in categorical_columns:\n",
    "        result_df[column] = pd.Categorical.from_array(result_df[column]).labels\n",
    "    return result_df\n",
    "\n",
    "def dummy_encode_categorical_columns(df, categorical_columns):\n",
    "    result_df = deepcopy(df)\n",
    "    for column in categorical_columns:\n",
    "        result_df = pd.concat([result_df, pd.get_dummies(result_df[column], prefix=column, prefix_sep=': ')], axis=1)\n",
    "        del result_df[column]\n",
    "    return result_df\n"
   ]
  },
  {
   "cell_type": "code",
   "execution_count": 35,
   "metadata": {
    "collapsed": false
   },
   "outputs": [
    {
     "name": "stdout",
     "output_type": "stream",
     "text": [
      "answer 4\n"
     ]
    },
    {
     "data": {
      "text/plain": [
       "array([[ 58.,   4.,  34., ...,   1.,   0.,   0.],\n",
       "       [  9.,   0.,   0., ...,   1.,   0.,   0.],\n",
       "       [ 42.,  34.,   3., ...,   1.,   0.,   0.],\n",
       "       ..., \n",
       "       [ 24.,   1.,  43., ...,   0.,   0.,   0.],\n",
       "       [ 30.,  45.,   2., ...,   1.,   0.,   0.],\n",
       "       [ 67.,   0.,   0., ...,   1.,   0.,   0.]], dtype=float32)"
      ]
     },
     "execution_count": 35,
     "metadata": {},
     "output_type": "execute_result"
    }
   ],
   "source": [
    "print 'answer 4'\n",
    "X = dummy_encode_categorical_columns(data.drop('CLASS', axis=1), categorical_columns).values.astype(numpy.float32)\n",
    "y = (data['CLASS'] == '50000+').values.astype(numpy.float32)\n",
    "\n",
    "X"
   ]
  },
  {
   "cell_type": "code",
   "execution_count": 36,
   "metadata": {
    "collapsed": false
   },
   "outputs": [
    {
     "name": "stdout",
     "output_type": "stream",
     "text": [
      "answer 5\n"
     ]
    }
   ],
   "source": [
    "print 'answer 5'\n",
    "from sklearn.cross_validation import train_test_split\n",
    "X_train, X_test, y_train, y_test = train_test_split(X, y, test_size=0.3)\n",
    "#print X_train.shape\n",
    "#print X_test.shape\n",
    "#print y_train.shape\n",
    "#print y_test.shape\n"
   ]
  },
  {
   "cell_type": "code",
   "execution_count": 37,
   "metadata": {
    "collapsed": false
   },
   "outputs": [
    {
     "name": "stdout",
     "output_type": "stream",
     "text": [
      "answer 6\n",
      "[[ 34.  49.   4. ...,   1.   0.   0.]\n",
      " [ 66.  33.  19. ...,   1.   0.   0.]\n",
      " [ 90.   0.   0. ...,   1.   0.   0.]\n",
      " ..., \n",
      " [  2.   0.   0. ...,   1.   0.   0.]\n",
      " [  2.   0.   0. ...,   1.   0.   0.]\n",
      " [  3.   0.   0. ...,   1.   0.   0.]]\n"
     ]
    }
   ],
   "source": [
    "print 'answer 6'\n",
    "X_train = X_train[:10000, :]\n",
    "X_test = X_test[:1000, :]\n",
    "y_train = y_train[:10000]\n",
    "y_test = y_test[:1000]\n",
    "print X_train"
   ]
  },
  {
   "cell_type": "code",
   "execution_count": 38,
   "metadata": {
    "collapsed": false
   },
   "outputs": [
    {
     "name": "stdout",
     "output_type": "stream",
     "text": [
      "answer 7\n"
     ]
    },
    {
     "data": {
      "text/plain": [
       "KNeighborsClassifier(algorithm='auto', leaf_size=30, metric='minkowski',\n",
       "           metric_params=None, n_neighbors=5, p=2, weights='uniform')"
      ]
     },
     "execution_count": 38,
     "metadata": {},
     "output_type": "execute_result"
    }
   ],
   "source": [
    "print 'answer 7'\n",
    "from sklearn.neighbors import KNeighborsClassifier as kNN\n",
    "clf = kNN(n_neighbors=5)\n",
    "clf.fit(X_train, y_train)"
   ]
  },
  {
   "cell_type": "code",
   "execution_count": 39,
   "metadata": {
    "collapsed": false
   },
   "outputs": [
    {
     "name": "stdout",
     "output_type": "stream",
     "text": [
      "answer 8\n"
     ]
    },
    {
     "data": {
      "text/plain": [
       "0.94299999999999995"
      ]
     },
     "execution_count": 39,
     "metadata": {},
     "output_type": "execute_result"
    }
   ],
   "source": [
    "print 'answer 8'\n",
    "y_predicted = clf.predict(X_test)\n",
    "numpy.logical_not(numpy.logical_xor(y_predicted, y_test)).sum() / float(len(y_test))"
   ]
  },
  {
   "cell_type": "code",
   "execution_count": 43,
   "metadata": {
    "collapsed": false
   },
   "outputs": [
    {
     "name": "stdout",
     "output_type": "stream",
     "text": [
      "Populating the interactive namespace from numpy and matplotlib\n",
      "answer 9\n",
      "      -50000  50000+  REALCLASS\n",
      "0        0.8     0.2          1\n",
      "1        0.8     0.2          0\n",
      "2        1.0     0.0          0\n",
      "3        1.0     0.0          0\n",
      "4        1.0     0.0          0\n",
      "5        1.0     0.0          0\n",
      "6        1.0     0.0          0\n",
      "7        1.0     0.0          0\n",
      "8        1.0     0.0          0\n",
      "9        1.0     0.0          0\n",
      "10       1.0     0.0          0\n",
      "11       0.8     0.2          0\n",
      "12       0.8     0.2          0\n",
      "13       1.0     0.0          0\n",
      "14       0.8     0.2          0\n",
      "15       1.0     0.0          0\n",
      "16       1.0     0.0          0\n",
      "17       0.8     0.2          0\n",
      "18       1.0     0.0          0\n",
      "19       1.0     0.0          0\n",
      "20       1.0     0.0          0\n",
      "21       1.0     0.0          0\n",
      "22       1.0     0.0          0\n",
      "23       1.0     0.0          0\n",
      "24       0.0     1.0          1\n",
      "25       0.8     0.2          0\n",
      "26       1.0     0.0          0\n",
      "27       1.0     0.0          0\n",
      "28       1.0     0.0          0\n",
      "29       0.8     0.2          0\n",
      "...      ...     ...        ...\n",
      "9970     1.0     0.0          0\n",
      "9971     1.0     0.0          0\n",
      "9972     1.0     0.0          0\n",
      "9973     0.8     0.2          0\n",
      "9974     1.0     0.0          0\n",
      "9975     0.8     0.2          0\n",
      "9976     0.8     0.2          0\n",
      "9977     1.0     0.0          0\n",
      "9978     1.0     0.0          0\n",
      "9979     1.0     0.0          0\n",
      "9980     0.8     0.2          0\n",
      "9981     1.0     0.0          0\n",
      "9982     0.8     0.2          1\n",
      "9983     1.0     0.0          0\n",
      "9984     1.0     0.0          0\n",
      "9985     1.0     0.0          0\n",
      "9986     1.0     0.0          0\n",
      "9987     1.0     0.0          0\n",
      "9988     1.0     0.0          0\n",
      "9989     1.0     0.0          0\n",
      "9990     1.0     0.0          0\n",
      "9991     1.0     0.0          0\n",
      "9992     1.0     0.0          0\n",
      "9993     1.0     0.0          0\n",
      "9994     1.0     0.0          0\n",
      "9995     0.2     0.8          1\n",
      "9996     1.0     0.0          0\n",
      "9997     1.0     0.0          0\n",
      "9998     1.0     0.0          0\n",
      "9999     1.0     0.0          0\n",
      "\n",
      "[10000 rows x 3 columns]\n"
     ]
    },
    {
     "name": "stderr",
     "output_type": "stream",
     "text": [
      "WARNING: pylab import has clobbered these variables: ['clf', 'table']\n",
      "`%matplotlib` prevents importing * from pylab and numpy\n"
     ]
    },
    {
     "data": {
      "text/plain": [
       "<matplotlib.axes._subplots.AxesSubplot at 0x1f1cdac8>"
      ]
     },
     "execution_count": 43,
     "metadata": {},
     "output_type": "execute_result"
    },
    {
     "data": {
      "image/png": "[encoded data removed]",
      "text/plain": [
       "<matplotlib.figure.Figure at 0x1a4c3908>"
      ]
     },
     "metadata": {},
     "output_type": "display_data"
    }
   ],
   "source": [
    "%pylab inline\n",
    "\n",
    "print \"answer 9\"\n",
    "\n",
    "clf = kNN(n_neighbors=5)\n",
    "clf.fit(X_train, y_train)\n",
    "proba = clf.predict_proba(X_train)\n",
    "\n",
    "#таблица по обучающей выборке\n",
    "table_part1 = pd.DataFrame(proba, columns= ['-50000', '50000+'])\n",
    "#таблица по значениям обуч.выборки\n",
    "table_part2 = pd.DataFrame(y_train, columns = ['REALCLASS'])\n",
    "\n",
    "table1 = pd.concat([table_part1,table_part2], axis = 1)\n",
    "print table1\n",
    "\n",
    "difference = table1['-50000'] - table1['50000+']\n",
    "\n",
    "diff = pd.DataFrame(difference, columns = ['indent'])\n",
    "table = pd.concat([table1,diff], axis = 1)\n",
    "\n",
    "#преобразование к отступам\n",
    "for i in range(len(table)):\n",
    "    if ( (table.indent[i] > 0) & (table.REALCLASS[i] == 1) ):\n",
    "        table.indent[i] *= (-1)\n",
    "    if ( (table.indent[i] < 0) & (table.REALCLASS[i] == 0) ):\n",
    "        table.indent[i] *= (-1)\n",
    "\n",
    "table.indent.hist(bins=30)"
   ]
  },
  {
   "cell_type": "code",
   "execution_count": 79,
   "metadata": {
    "collapsed": false
   },
   "outputs": [],
   "source": []
  },
  {
   "cell_type": "code",
   "execution_count": null,
   "metadata": {
    "collapsed": false
   },
   "outputs": [],
   "source": []
  }
 ],
 "metadata": {
  "kernelspec": {
   "display_name": "Python 2",
   "language": "python",
   "name": "python2"
  },
  "language_info": {
   "codemirror_mode": {
    "name": "ipython",
    "version": 2
   },
   "file_extension": ".py",
   "mimetype": "text/x-python",
   "name": "python",
   "nbconvert_exporter": "python",
   "pygments_lexer": "ipython2",
   "version": "2.7.11"
  }
 },
 "nbformat": 4,
 "nbformat_minor": 0
}
