{
 "cells": [
  {
   "cell_type": "code",
   "execution_count": 55,
   "metadata": {
    "collapsed": false
   },
   "outputs": [
    {
     "name": "stdout",
     "output_type": "stream",
     "text": [
      "Populating the interactive namespace from numpy and matplotlib\n"
     ]
    },
    {
     "name": "stderr",
     "output_type": "stream",
     "text": [
      "WARNING: pylab import has clobbered these variables: ['random']\n",
      "`%matplotlib` prevents importing * from pylab and numpy\n"
     ]
    }
   ],
   "source": [
    "import scipy\n",
    "import numpy as np\n",
    "import sklearn\n",
    "import random\n",
    "import pandas\n",
    "%pylab inline"
   ]
  },
  {
   "cell_type": "code",
   "execution_count": 56,
   "metadata": {
    "collapsed": false
   },
   "outputs": [
    {
     "data": {
      "text/plain": [
       "[<matplotlib.lines.Line2D at 0x16d88be0>]"
      ]
     },
     "execution_count": 56,
     "metadata": {},
     "output_type": "execute_result"
    },
    {
     "data": {
      "image/png": "[encoded data removed]",
      "text/plain": [
       "<matplotlib.figure.Figure at 0x16d88eb8>"
      ]
     },
     "metadata": {},
     "output_type": "display_data"
    }
   ],
   "source": [
    "u = np.random.uniform(0, 2 * np.pi, 200)\n",
    "r = np.random.standard_cauchy(200)\n",
    "x1 = 2 * r * np.sin(u)\n",
    "y1 = 2 * r * np.cos(u)\n",
    "x2 = (np.random.randn(200) + 1.0) * 2\n",
    "y2 = (np.random.randn(200)) / 2.0\n",
    "        \n",
    "#figure(figSize=[10, 10])\n",
    "\n",
    "plot(x1<10,y1<10,'bo')\n",
    "plot(x2,y2,'ro')\n"
   ]
  },
  {
   "cell_type": "code",
   "execution_count": 57,
   "metadata": {
    "collapsed": false
   },
   "outputs": [],
   "source": [
    "def generateData (numberOfClassEl):\n",
    "    data = empty((numberOfClassEl,2))\n",
    "    data_index = np.arange(numberOfClassEl)\n",
    "    u = np.random.uniform(0, 2 * np.pi, 200)\n",
    "    r = np.random.standard_cauchy(200)\n",
    "    x1 = 2 * r * np.sin(u)\n",
    "    y1 = 2 * r * np.cos(u)\n",
    "    x2 = (np.random.randn(200) + 1.0) * 2\n",
    "    y2 = (np.random.randn(200)) / 2.0\n",
    "    i = 0\n",
    "    for row in data:\n",
    "        if i%2 == 0:\n",
    "            row[0] = x1[i/2]\n",
    "            row[1] = y1[i/2]\n",
    "            data_index[i] = 0\n",
    "        else:\n",
    "            row[0] = x2[i/2]\n",
    "            row[1] = y2[i/2]\n",
    "            data_index[i] = 1\n",
    "        i = i+1\n",
    "    return data,data_index\n"
   ]
  },
  {
   "cell_type": "code",
   "execution_count": 58,
   "metadata": {
    "collapsed": false
   },
   "outputs": [],
   "source": [
    "data,data_index = generateData(400)\n",
    "#print data\n",
    "#print data_index\n"
   ]
  },
  {
   "cell_type": "code",
   "execution_count": 59,
   "metadata": {
    "collapsed": false
   },
   "outputs": [
    {
     "name": "stdout",
     "output_type": "stream",
     "text": [
      "(200L, 2L)\n",
      "(200L, 2L)\n",
      "(200L,)\n",
      "(200L,)\n"
     ]
    }
   ],
   "source": [
    "from sklearn.cross_validation import train_test_split\n",
    "X_train, X_test, y_train, y_test = train_test_split(data, data_index, test_size=0.5)\n",
    "print X_train.shape\n",
    "print X_test.shape\n",
    "print y_train.shape\n",
    "print y_test.shape\n"
   ]
  },
  {
   "cell_type": "code",
   "execution_count": 60,
   "metadata": {
    "collapsed": false
   },
   "outputs": [],
   "source": [
    "from sklearn.neighbors import KNeighborsClassifier as kNN\n",
    "clf = kNN(n_neighbors = 5, p = 3)\n",
    "clf.fit(X_train, y_train)\n",
    "\n",
    "y_predicted = clf.predict(X_test)"
   ]
  },
  {
   "cell_type": "code",
   "execution_count": 61,
   "metadata": {
    "collapsed": false
   },
   "outputs": [
    {
     "data": {
      "text/plain": [
       "0.77500000000000002"
      ]
     },
     "execution_count": 61,
     "metadata": {},
     "output_type": "execute_result"
    }
   ],
   "source": [
    "np.logical_not(np.logical_xor(y_predicted, y_test)).sum() / float(len(y_test))"
   ]
  },
  {
   "cell_type": "markdown",
   "metadata": {},
   "source": [
    "#### Test"
   ]
  },
  {
   "cell_type": "code",
   "execution_count": 64,
   "metadata": {
    "collapsed": false
   },
   "outputs": [
    {
     "data": {
      "text/plain": [
       "0.80249999999999999"
      ]
     },
     "execution_count": 64,
     "metadata": {},
     "output_type": "execute_result"
    }
   ],
   "source": [
    "data2,data_index2 = generateData(400)\n",
    "\n",
    "y_predicted2 = clf.predict(data2)\n",
    "\n",
    "np.logical_not(np.logical_xor(y_predicted2, data_index2)).sum() / float(len(data_index2))"
   ]
  },
  {
   "cell_type": "code",
   "execution_count": null,
   "metadata": {
    "collapsed": false
   },
   "outputs": [],
   "source": []
  }
 ],
 "metadata": {
  "kernelspec": {
   "display_name": "Python 2",
   "language": "python",
   "name": "python2"
  },
  "language_info": {
   "codemirror_mode": {
    "name": "ipython",
    "version": 2
   },
   "file_extension": ".py",
   "mimetype": "text/x-python",
   "name": "python",
   "nbconvert_exporter": "python",
   "pygments_lexer": "ipython2",
   "version": "2.7.11"
  }
 },
 "nbformat": 4,
 "nbformat_minor": 0
}
